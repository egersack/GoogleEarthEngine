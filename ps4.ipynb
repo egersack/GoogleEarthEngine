{
  "nbformat": 4,
  "nbformat_minor": 0,
  "metadata": {
    "colab": {
      "name": "ps4.ipynb",
      "provenance": [],
      "collapsed_sections": [],
      "authorship_tag": "ABX9TyMX73jDouJnDPO5lOMfxTJG",
      "include_colab_link": true
    },
    "kernelspec": {
      "name": "python3",
      "display_name": "Python 3"
    },
    "language_info": {
      "name": "python"
    }
  },
  "cells": [
    {
      "cell_type": "markdown",
      "metadata": {
        "id": "view-in-github",
        "colab_type": "text"
      },
      "source": [
        "<a href=\"https://colab.research.google.com/github/egersack/GoogleEarthEngine/blob/master/ps4.ipynb\" target=\"_parent\"><img src=\"https://colab.research.google.com/assets/colab-badge.svg\" alt=\"Open In Colab\"/></a>"
      ]
    },
    {
      "cell_type": "code",
      "execution_count": 1,
      "metadata": {
        "colab": {
          "base_uri": "https://localhost:8080/"
        },
        "id": "mxPmrHL7r1f8",
        "outputId": "99b2b189-404c-46c3-e8c4-1aebee3a92c8"
      },
      "outputs": [
        {
          "output_type": "stream",
          "name": "stdout",
          "text": [
            "To authorize access needed by Earth Engine, open the following URL in a web browser and follow the instructions. If the web browser does not start automatically, please manually browse the URL below.\n",
            "\n",
            "    https://accounts.google.com/o/oauth2/auth?client_id=517222506229-vsmmajv00ul0bs7p89v5m89qs8eb9359.apps.googleusercontent.com&scope=https%3A%2F%2Fwww.googleapis.com%2Fauth%2Fearthengine+https%3A%2F%2Fwww.googleapis.com%2Fauth%2Fdevstorage.full_control&redirect_uri=urn%3Aietf%3Awg%3Aoauth%3A2.0%3Aoob&response_type=code&code_challenge=D9an8RawWz1R4As5mE7XMSFwUrEwms48PVtf9w-7AL8&code_challenge_method=S256\n",
            "\n",
            "The authorization workflow will generate a code, which you should paste in the box below. \n",
            "Enter verification code: 4/1AX4XfWi2rEagL1k6VkIdVCrLj7vxTheLKJEglNfR16QVsJXzGW-Og6IAVGk\n",
            "\n",
            "Successfully saved authorization token.\n"
          ]
        }
      ],
      "source": [
        "import ee\n",
        "from IPython.display import Image\n",
        "\n",
        "# Trigger the authentication flow.\n",
        "ee.Authenticate()\n",
        "\n",
        "# Initialize the library.\n",
        "ee.Initialize()"
      ]
    },
    {
      "cell_type": "code",
      "source": [
        "# southern region\n",
        "temp = ee.ImageCollection(\"IDAHO_EPSCOR/MACAv2_METDATA\")\n",
        "\n",
        "#specific dates\n",
        "StartDate = '2018-08-01'\n",
        "StopDate  = '2018-08-15'\n",
        "\n",
        "#Filter dates\n",
        "temp = temp.select('pr').filterDate(StartDate, StopDate)\n",
        "\n",
        "# Coordinates for Roswell, GA\n",
        "lat = 34.0232\n",
        "lon = 84.3616\n",
        "\n",
        "# Center on Roswell, GA (courthouse)\n",
        "point = ee.Geometry.Point(lon, lat)"
      ],
      "metadata": {
        "id": "cb5_J8JtsJy-"
      },
      "execution_count": 33,
      "outputs": []
    },
    {
      "cell_type": "code",
      "source": [
        "scale = 100\n",
        "tempsouth = temp.getRegion(point, scale).getInfo()\n",
        "tempsouth[:30]"
      ],
      "metadata": {
        "colab": {
          "base_uri": "https://localhost:8080/"
        },
        "id": "CIE2E34H-5hu",
        "outputId": "af9d7bd9-b01d-46eb-9d70-46aac257073d"
      },
      "execution_count": 35,
      "outputs": [
        {
          "output_type": "execute_result",
          "data": {
            "text/plain": [
              "[['id', 'longitude', 'latitude', 'time', 'pr'],\n",
              " ['BNU-ESM_rcp45_20180801',\n",
              "  84.36123748930633,\n",
              "  34.02324222838482,\n",
              "  1533081600000,\n",
              "  None],\n",
              " ['BNU-ESM_rcp45_20180802',\n",
              "  84.36123748930633,\n",
              "  34.02324222838482,\n",
              "  1533168000000,\n",
              "  None],\n",
              " ['BNU-ESM_rcp45_20180803',\n",
              "  84.36123748930633,\n",
              "  34.02324222838482,\n",
              "  1533254400000,\n",
              "  None],\n",
              " ['BNU-ESM_rcp45_20180804',\n",
              "  84.36123748930633,\n",
              "  34.02324222838482,\n",
              "  1533340800000,\n",
              "  None],\n",
              " ['BNU-ESM_rcp45_20180805',\n",
              "  84.36123748930633,\n",
              "  34.02324222838482,\n",
              "  1533427200000,\n",
              "  None],\n",
              " ['BNU-ESM_rcp45_20180806',\n",
              "  84.36123748930633,\n",
              "  34.02324222838482,\n",
              "  1533513600000,\n",
              "  None],\n",
              " ['BNU-ESM_rcp45_20180807',\n",
              "  84.36123748930633,\n",
              "  34.02324222838482,\n",
              "  1533600000000,\n",
              "  None],\n",
              " ['BNU-ESM_rcp45_20180808',\n",
              "  84.36123748930633,\n",
              "  34.02324222838482,\n",
              "  1533686400000,\n",
              "  None],\n",
              " ['BNU-ESM_rcp45_20180809',\n",
              "  84.36123748930633,\n",
              "  34.02324222838482,\n",
              "  1533772800000,\n",
              "  None],\n",
              " ['BNU-ESM_rcp45_20180810',\n",
              "  84.36123748930633,\n",
              "  34.02324222838482,\n",
              "  1533859200000,\n",
              "  None],\n",
              " ['BNU-ESM_rcp45_20180811',\n",
              "  84.36123748930633,\n",
              "  34.02324222838482,\n",
              "  1533945600000,\n",
              "  None],\n",
              " ['BNU-ESM_rcp45_20180812',\n",
              "  84.36123748930633,\n",
              "  34.02324222838482,\n",
              "  1534032000000,\n",
              "  None],\n",
              " ['BNU-ESM_rcp45_20180813',\n",
              "  84.36123748930633,\n",
              "  34.02324222838482,\n",
              "  1534118400000,\n",
              "  None],\n",
              " ['BNU-ESM_rcp45_20180814',\n",
              "  84.36123748930633,\n",
              "  34.02324222838482,\n",
              "  1534204800000,\n",
              "  None],\n",
              " ['BNU-ESM_rcp85_20180801',\n",
              "  84.36123748930633,\n",
              "  34.02324222838482,\n",
              "  1533081600000,\n",
              "  None],\n",
              " ['BNU-ESM_rcp85_20180802',\n",
              "  84.36123748930633,\n",
              "  34.02324222838482,\n",
              "  1533168000000,\n",
              "  None],\n",
              " ['BNU-ESM_rcp85_20180803',\n",
              "  84.36123748930633,\n",
              "  34.02324222838482,\n",
              "  1533254400000,\n",
              "  None],\n",
              " ['BNU-ESM_rcp85_20180804',\n",
              "  84.36123748930633,\n",
              "  34.02324222838482,\n",
              "  1533340800000,\n",
              "  None],\n",
              " ['BNU-ESM_rcp85_20180805',\n",
              "  84.36123748930633,\n",
              "  34.02324222838482,\n",
              "  1533427200000,\n",
              "  None],\n",
              " ['BNU-ESM_rcp85_20180806',\n",
              "  84.36123748930633,\n",
              "  34.02324222838482,\n",
              "  1533513600000,\n",
              "  None],\n",
              " ['BNU-ESM_rcp85_20180807',\n",
              "  84.36123748930633,\n",
              "  34.02324222838482,\n",
              "  1533600000000,\n",
              "  None],\n",
              " ['BNU-ESM_rcp85_20180808',\n",
              "  84.36123748930633,\n",
              "  34.02324222838482,\n",
              "  1533686400000,\n",
              "  None],\n",
              " ['BNU-ESM_rcp85_20180809',\n",
              "  84.36123748930633,\n",
              "  34.02324222838482,\n",
              "  1533772800000,\n",
              "  None],\n",
              " ['BNU-ESM_rcp85_20180810',\n",
              "  84.36123748930633,\n",
              "  34.02324222838482,\n",
              "  1533859200000,\n",
              "  None],\n",
              " ['BNU-ESM_rcp85_20180811',\n",
              "  84.36123748930633,\n",
              "  34.02324222838482,\n",
              "  1533945600000,\n",
              "  None],\n",
              " ['BNU-ESM_rcp85_20180812',\n",
              "  84.36123748930633,\n",
              "  34.02324222838482,\n",
              "  1534032000000,\n",
              "  None],\n",
              " ['BNU-ESM_rcp85_20180813',\n",
              "  84.36123748930633,\n",
              "  34.02324222838482,\n",
              "  1534118400000,\n",
              "  None],\n",
              " ['BNU-ESM_rcp85_20180814',\n",
              "  84.36123748930633,\n",
              "  34.02324222838482,\n",
              "  1534204800000,\n",
              "  None],\n",
              " ['CCSM4_rcp45_20180801',\n",
              "  84.36123748930633,\n",
              "  34.02324222838482,\n",
              "  1533081600000,\n",
              "  None]]"
            ]
          },
          "metadata": {},
          "execution_count": 35
        }
      ]
    },
    {
      "cell_type": "code",
      "source": [
        "#exactly copied from johntango repo\n",
        "import pandas as pd\n",
        "\n",
        "def ee_array_to_df(arr, list_of_bands):\n",
        "    \"\"\"Transforms client-side ee.Image.getRegion array to pandas.DataFrame.\"\"\"\n",
        "    df = pd.DataFrame(arr)\n",
        "\n",
        "    # Rearrange the header.\n",
        "    headers = df.iloc[0]\n",
        "    df = pd.DataFrame(df.values[1:], columns=headers)\n",
        "\n",
        "    # Remove rows without data inside.\n",
        "    df = df[['longitude', 'latitude', 'time', *list_of_bands]].dropna()\n",
        "\n",
        "    # Convert the data to numeric values.\n",
        "    for band in list_of_bands:\n",
        "        df[band] = pd.to_numeric(df[band], errors='coerce')\n",
        "\n",
        "    # Convert the time field into a datetime.\n",
        "    df['datetime'] = pd.to_datetime(df['time'], unit='ms')\n",
        "\n",
        "    # Keep the columns of interest.\n",
        "    df = df[['time','datetime',  *list_of_bands]]\n",
        "\n",
        "    return df"
      ],
      "metadata": {
        "id": "ByQdpmX35pRv"
      },
      "execution_count": 36,
      "outputs": []
    },
    {
      "cell_type": "code",
      "source": [
        "import matplotlib.pyplot as plt\n",
        "%matplotlib inline\n",
        "\n",
        "temperature = ee_array_to_df(tempsouth,['pr'])\n",
        "\n",
        "fig, ax = plt.subplots(figsize=(14, 6))\n",
        "ax.scatter(temperature['datetime'], temperature['pr'], c = 'green', alpha = 1)\n",
        "ax.set_title('Temp in Roswell, GA', fontsize = 16)\n",
        "ax.set_xlabel('Date', fontsize = 15)\n",
        "ax.set_ylabel('Temp (C)', fontsize = 15)\n",
        "ax.set_ylim(0, 100)\n",
        "plt.show()\n"
      ],
      "metadata": {
        "colab": {
          "base_uri": "https://localhost:8080/",
          "height": 411
        },
        "id": "UlEGw29P6HF2",
        "outputId": "6952cad1-d434-4704-c160-4b50d18fece9"
      },
      "execution_count": 40,
      "outputs": [
        {
          "output_type": "display_data",
          "data": {
            "image/png": "[encoded data removed]",
            "text/plain": [
              "<Figure size 1008x432 with 1 Axes>"
            ]
          },
          "metadata": {
            "needs_background": "light"
          }
        }
      ]
    },
    {
      "cell_type": "code",
      "source": [
        "region = point.buffer(1e6)\n",
        "tempchart = temp.mean()\n",
        "from IPython.display import Image\n",
        "url = tempchart.getThumbUrl({\n",
        "    'min': 290.0, 'max': 314.0, 'dimensions': 2048, 'region': region,\n",
        "    'palette': ['d8d8d8', '4addff', '5affa3', 'f2ff89', 'ff725c']\n",
        "})\n",
        "\n",
        "print(url)\n",
        "Image(url=url)"
      ],
      "metadata": {
        "colab": {
          "base_uri": "https://localhost:8080/",
          "height": 72
        },
        "id": "JDh1ih9LCOyX",
        "outputId": "32d13416-9167-4b30-f9cc-880efa0fe6ba"
      },
      "execution_count": 47,
      "outputs": [
        {
          "output_type": "stream",
          "name": "stdout",
          "text": [
            "https://earthengine.googleapis.com/v1alpha/projects/earthengine-legacy/thumbnails/dca28228ef3e2de57eccca0930800aa1-3a383b62f184b06945a17ee596b011a6:getPixels\n"
          ]
        },
        {
          "output_type": "execute_result",
          "data": {
            "text/html": [
              "<img src=\"https://earthengine.googleapis.com/v1alpha/projects/earthengine-legacy/thumbnails/dca28228ef3e2de57eccca0930800aa1-3a383b62f184b06945a17ee596b011a6:getPixels\"/>"
            ],
            "text/plain": [
              "<IPython.core.display.Image object>"
            ]
          },
          "metadata": {},
          "execution_count": 47
        }
      ]
    }
  ]
}